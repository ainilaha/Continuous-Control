{
 "cells": [
  {
   "cell_type": "markdown",
   "metadata": {},
   "source": [
    "# Continuous Control\n",
    "\n",
    "---\n",
    "\n",
    "This is the second project of [Deep Reinforcement Learning Nanodegree](https://www.udacity.com/course/deep-reinforcement-learning-nanodegree--nd893) program.\n",
    "\n",
    "### 1. Start the Environment\n",
    "\n",
    "We begin by importing the necessary packages.  If the code cell below returns an error, please revisit the project instructions to double-check that you have installed [Unity ML-Agents](https://github.com/Unity-Technologies/ml-agents/blob/master/docs/Installation.md) and [NumPy](http://www.numpy.org/)."
   ]
  },
  {
   "cell_type": "code",
   "execution_count": 1,
   "metadata": {},
   "outputs": [],
   "source": [
    "from unityagents import UnityEnvironment\n",
    "import numpy as np"
   ]
  },
  {
   "cell_type": "markdown",
   "metadata": {},
   "source": [
    "Next, we will start the environment!  **_Before running the code cell below_**, change the `file_name` parameter to match the location of the Unity environment that you downloaded.\n",
    "\n",
    "- **Mac**: `\"path/to/Reacher.app\"`\n",
    "- **Windows** (x86): `\"path/to/Reacher_Windows_x86/Reacher.exe\"`\n",
    "- **Windows** (x86_64): `\"path/to/Reacher_Windows_x86_64/Reacher.exe\"`\n",
    "- **Linux** (x86): `\"path/to/Reacher_Linux/Reacher.x86\"`\n",
    "- **Linux** (x86_64): `\"path/to/Reacher_Linux/Reacher.x86_64\"`\n",
    "- **Linux** (x86, headless): `\"path/to/Reacher_Linux_NoVis/Reacher.x86\"`\n",
    "- **Linux** (x86_64, headless): `\"path/to/Reacher_Linux_NoVis/Reacher.x86_64\"`\n",
    "\n",
    "For instance, if you are using a Mac, then you downloaded `Reacher.app`.  If this file is in the same folder as the notebook, then the line below should appear as follows:\n",
    "```\n",
    "env = UnityEnvironment(file_name=\"Reacher.app\")\n",
    "```"
   ]
  },
  {
   "cell_type": "code",
   "execution_count": 2,
   "metadata": {},
   "outputs": [
    {
     "name": "stderr",
     "output_type": "stream",
     "text": [
      "INFO:unityagents:\n",
      "'Academy' started successfully!\n",
      "Unity Academy name: Academy\n",
      "        Number of Brains: 1\n",
      "        Number of External Brains : 1\n",
      "        Lesson number : 0\n",
      "        Reset Parameters :\n",
      "\t\tgoal_speed -> 1.0\n",
      "\t\tgoal_size -> 5.0\n",
      "Unity brain name: ReacherBrain\n",
      "        Number of Visual Observations (per agent): 0\n",
      "        Vector Observation space type: continuous\n",
      "        Vector Observation space size (per agent): 33\n",
      "        Number of stacked Vector Observation: 1\n",
      "        Vector Action space type: continuous\n",
      "        Vector Action space size (per agent): 4\n",
      "        Vector Action descriptions: , , , \n"
     ]
    }
   ],
   "source": [
    "# env = UnityEnvironment(file_name='/Users/lahaale/Downloads/DRL/apps/Reacher.app') # mac\n",
    "env = UnityEnvironment(file_name='d:/DRL/app/Reacher_Windows_x86_64_v2/Reacher.exe')"
   ]
  },
  {
   "cell_type": "markdown",
   "metadata": {},
   "source": [
    "Environments contain **_brains_** which are responsible for deciding the actions of their associated agents. Here we check for the first brain available, and set it as the default brain we will be controlling from Python."
   ]
  },
  {
   "cell_type": "code",
   "execution_count": 3,
   "metadata": {},
   "outputs": [],
   "source": [
    "# get the default brain\n",
    "brain_name = env.brain_names[0]\n",
    "brain = env.brains[brain_name]"
   ]
  },
  {
   "cell_type": "markdown",
   "metadata": {},
   "source": [
    "### 2. Examine the State and Action Spaces\n",
    "\n",
    "In this environment, a double-jointed arm can move to target locations. A reward of `+0.1` is provided for each step that the agent's hand is in the goal location. Thus, the goal of your agent is to maintain its position at the target location for as many time steps as possible.\n",
    "\n",
    "The observation space consists of `33` variables corresponding to position, rotation, velocity, and angular velocities of the arm.  Each action is a vector with four numbers, corresponding to torque applicable to two joints.  Every entry in the action vector must be a number between `-1` and `1`.\n",
    "\n",
    "Run the code cell below to print some information about the environment."
   ]
  },
  {
   "cell_type": "code",
   "execution_count": 4,
   "metadata": {},
   "outputs": [
    {
     "name": "stdout",
     "output_type": "stream",
     "text": [
      "Number of agents: 20\n",
      "Size of each action: 4\n",
      "There are 20 agents. Each observes a state with length: 33\n",
      "The state for the first agent looks like: [ 0.00000000e+00 -4.00000000e+00  0.00000000e+00  1.00000000e+00\n",
      " -0.00000000e+00 -0.00000000e+00 -4.37113883e-08  0.00000000e+00\n",
      "  0.00000000e+00  0.00000000e+00  0.00000000e+00  0.00000000e+00\n",
      "  0.00000000e+00  0.00000000e+00 -1.00000000e+01  0.00000000e+00\n",
      "  1.00000000e+00 -0.00000000e+00 -0.00000000e+00 -4.37113883e-08\n",
      "  0.00000000e+00  0.00000000e+00  0.00000000e+00  0.00000000e+00\n",
      "  0.00000000e+00  0.00000000e+00  5.75471878e+00 -1.00000000e+00\n",
      "  5.55726624e+00  0.00000000e+00  1.00000000e+00  0.00000000e+00\n",
      " -1.68164849e-01]\n"
     ]
    }
   ],
   "source": [
    "# reset the environment\n",
    "env_info = env.reset(train_mode=True)[brain_name]\n",
    "\n",
    "# number of agents\n",
    "num_agents = len(env_info.agents)\n",
    "print('Number of agents:', num_agents)\n",
    "\n",
    "# size of each action\n",
    "action_size = brain.vector_action_space_size\n",
    "print('Size of each action:', action_size)\n",
    "\n",
    "# examine the state space \n",
    "states = env_info.vector_observations\n",
    "state_size = states.shape[1]\n",
    "print('There are {} agents. Each observes a state with length: {}'.format(states.shape[0], state_size))\n",
    "print('The state for the first agent looks like:', states[0])"
   ]
  },
  {
   "cell_type": "markdown",
   "metadata": {},
   "source": [
    "### 3. Take Random Actions in the Environment\n",
    "\n",
    "In the next code cell, you will learn how to use the Python API to control the agent and receive feedback from the environment.\n",
    "\n",
    "Once this cell is executed, you will watch the agent's performance, if it selects an action at random with each time step.  A window should pop up that allows you to observe the agent, as it moves through the environment.  \n",
    "\n",
    "Of course, as part of the project, you'll have to change the code so that the agent is able to use its experience to gradually choose better actions when interacting with the environment!"
   ]
  },
  {
   "cell_type": "code",
   "execution_count": 5,
   "metadata": {},
   "outputs": [
    {
     "name": "stdout",
     "output_type": "stream",
     "text": [
      "Total score (averaged over agents) this episode: 0.2024999954737723\n"
     ]
    }
   ],
   "source": [
    "env_info = env.reset(train_mode=False)[brain_name]     # reset the environment    \n",
    "states = env_info.vector_observations                  # get the current state (for each agent)\n",
    "scores = np.zeros(num_agents)                          # initialize the score (for each agent)\n",
    "while True:\n",
    "    actions = np.random.randn(num_agents, action_size) # select an action (for each agent)\n",
    "    actions = np.clip(actions, -1, 1)                  # all actions between -1 and 1\n",
    "    env_info = env.step(actions)[brain_name]           # send all actions to tne environment\n",
    "    next_states = env_info.vector_observations         # get next state (for each agent)\n",
    "    rewards = env_info.rewards                         # get reward (for each agent)\n",
    "    dones = env_info.local_done                        # see if episode finished\n",
    "    scores += env_info.rewards                         # update the score (for each agent)\n",
    "    states = next_states                               # roll over states to next time step\n",
    "    if np.any(dones):                                  # exit loop if episode finished\n",
    "        break\n",
    "print('Total score (averaged over agents) this episode: {}'.format(np.mean(scores)))"
   ]
  },
  {
   "cell_type": "markdown",
   "metadata": {},
   "source": [
    "### 4. Take Actions with DDPG"
   ]
  },
  {
   "cell_type": "code",
   "execution_count": 5,
   "metadata": {},
   "outputs": [],
   "source": [
    "import torch\n",
    "from collections import deque\n",
    "from ddpg_agent import Agent\n",
    "import matplotlib.pyplot as plt\n",
    "%matplotlib inline"
   ]
  },
  {
   "cell_type": "code",
   "execution_count": 6,
   "metadata": {},
   "outputs": [
    {
     "name": "stdout",
     "output_type": "stream",
     "text": [
      "Initialising ReplayBuffer\n",
      "Episode 1\tScore: 0.49\tAverage Score: 0.49.42\n",
      "Episode 2\tScore: 1.54\tAverage Score: 1.01.57\n",
      "Episode 3\tScore: 2.57\tAverage Score: 1.53.89\n",
      "Episode 4\tScore: 3.19\tAverage Score: 1.95.89\n",
      "Episode 5\tScore: 3.08\tAverage Score: 2.17.95\n",
      "Episode 6\tScore: 4.05\tAverage Score: 2.49.78\n",
      "Episode 7\tScore: 4.50\tAverage Score: 2.78.30\n",
      "Episode 8\tScore: 6.06\tAverage Score: 3.19.63\n",
      "Episode 9\tScore: 6.47\tAverage Score: 3.55.06\n",
      "Episode 10\tScore: 7.17\tAverage Score: 3.91.69\n",
      "Episode 11\tScore: 9.16\tAverage Score: 4.39.63\n",
      "Episode 12\tScore: 9.67\tAverage Score: 4.83.68\n",
      "Episode 13\tScore: 10.89\tAverage Score: 5.30.07\n",
      "Episode 14\tScore: 13.76\tAverage Score: 5.90.33\n",
      "Episode 15\tScore: 13.96\tAverage Score: 6.44.51\n",
      "Episode 16\tScore: 16.30\tAverage Score: 7.05.49\n",
      "Episode 17\tScore: 17.37\tAverage Score: 7.664.75\n",
      "Episode 18\tScore: 19.25\tAverage Score: 8.305.83\n",
      "Episode 19\tScore: 19.76\tAverage Score: 8.915.59\n",
      "Episode 20\tScore: 19.68\tAverage Score: 9.458.55\n",
      "Episode 21\tScore: 22.83\tAverage Score: 10.08.95\n",
      "Episode 22\tScore: 22.46\tAverage Score: 10.65.90\n",
      "Episode 23\tScore: 23.96\tAverage Score: 11.22.09\n",
      "Episode 24\tScore: 23.40\tAverage Score: 11.73.98\n",
      "Episode 25\tScore: 24.20\tAverage Score: 12.23.61\n",
      "Episode 26\tScore: 24.87\tAverage Score: 12.72.63\n",
      "Episode 27\tScore: 26.36\tAverage Score: 13.22.01\n",
      "Episode 28\tScore: 27.88\tAverage Score: 13.75.57\n",
      "Episode 29\tScore: 28.76\tAverage Score: 14.26.57\n",
      "Episode 30\tScore: 28.72\tAverage Score: 14.75.12\n",
      "Episode 31\tScore: 29.13\tAverage Score: 15.21.74\n",
      "Episode 32\tScore: 30.38\tAverage Score: 15.68.40\n",
      "Episode 33\tScore: 32.51\tAverage Score: 16.19.10\n",
      "Episode 34\tScore: 32.36\tAverage Score: 16.67.93\n",
      "Episode 35\tScore: 32.35\tAverage Score: 17.12.46\n",
      "Episode 36\tScore: 32.95\tAverage Score: 17.56.57\n",
      "Episode 37\tScore: 34.13\tAverage Score: 18.00.99\n",
      "Episode 38\tScore: 32.05\tAverage Score: 18.37.06\n",
      "Episode 39\tScore: 33.25\tAverage Score: 18.76.62\n",
      "Episode 40\tScore: 33.72\tAverage Score: 19.13.68\n",
      "Episode 41\tScore: 34.27\tAverage Score: 19.50.49\n",
      "Episode 42\tScore: 33.68\tAverage Score: 19.84.16\n",
      "Episode 43\tScore: 34.57\tAverage Score: 20.18.33\n",
      "Episode 44\tScore: 34.87\tAverage Score: 20.51.80\n",
      "Episode 45\tScore: 34.35\tAverage Score: 20.82.89\n",
      "Episode 46\tScore: 34.46\tAverage Score: 21.12.16\n",
      "Episode 47\tScore: 35.34\tAverage Score: 21.42.98\n",
      "Episode 48\tScore: 34.64\tAverage Score: 21.69.46\n",
      "Episode 49\tScore: 34.21\tAverage Score: 21.95.64\n",
      "Episode 50\tScore: 35.16\tAverage Score: 22.21.93\n",
      "Episode 51\tScore: 33.64\tAverage Score: 22.44.45\n",
      "Episode 52\tScore: 34.57\tAverage Score: 22.67.52\n",
      "Episode 53\tScore: 35.01\tAverage Score: 22.90.94\n",
      "Episode 54\tScore: 33.79\tAverage Score: 23.11.56\n",
      "Episode 55\tScore: 34.22\tAverage Score: 23.31.62\n",
      "Episode 56\tScore: 33.38\tAverage Score: 23.49.05\n",
      "Episode 57\tScore: 33.12\tAverage Score: 23.66.71\n",
      "Episode 58\tScore: 32.75\tAverage Score: 23.81.60\n",
      "Episode 59\tScore: 33.18\tAverage Score: 23.97.49\n",
      "Episode 60\tScore: 33.93\tAverage Score: 24.14.63\n",
      "Episode 61\tScore: 33.94\tAverage Score: 24.30.38\n",
      "Episode 62\tScore: 33.64\tAverage Score: 24.45.44\n",
      "Episode 63\tScore: 32.85\tAverage Score: 24.58.32\n",
      "Episode 64\tScore: 34.01\tAverage Score: 24.73.53\n",
      "Episode 65\tScore: 34.25\tAverage Score: 24.88.40\n",
      "Episode 66\tScore: 32.74\tAverage Score: 25.00.94\n",
      "Episode 67\tScore: 33.45\tAverage Score: 25.12.12\n",
      "Episode 68\tScore: 32.98\tAverage Score: 25.24.19\n",
      "Episode 69\tScore: 33.56\tAverage Score: 25.36.15\n",
      "Episode 70\tScore: 33.31\tAverage Score: 25.47.33\n",
      "Episode 71\tScore: 34.33\tAverage Score: 25.60.89\n",
      "Episode 72\tScore: 33.26\tAverage Score: 25.70.62\n",
      "Episode 73\tScore: 32.94\tAverage Score: 25.80.31\n",
      "Episode 74\tScore: 33.28\tAverage Score: 25.90.45\n",
      "Episode 75\tScore: 31.40\tAverage Score: 25.98.82\n",
      "Episode 76\tScore: 31.63\tAverage Score: 26.05.42\n",
      "Episode 77\tScore: 32.01\tAverage Score: 26.13.56\n",
      "Episode 78\tScore: 31.06\tAverage Score: 26.19.42\n",
      "Episode 79\tScore: 30.22\tAverage Score: 26.24.11\n",
      "Episode 80\tScore: 30.15\tAverage Score: 26.29.06\n",
      "Episode 81\tScore: 31.62\tAverage Score: 26.36.43\n",
      "Episode 82\tScore: 30.48\tAverage Score: 26.41.73\n",
      "Episode 83\tScore: 32.18\tAverage Score: 26.48.29\n",
      "Episode 84\tScore: 31.92\tAverage Score: 26.54.01\n",
      "Episode 85\tScore: 31.19\tAverage Score: 26.60.05\n",
      "Episode 86\tScore: 30.98\tAverage Score: 26.65.37\n",
      "Episode 87\tScore: 31.69\tAverage Score: 26.71.86\n",
      "Episode 88\tScore: 32.58\tAverage Score: 26.77.24\n",
      "Episode 89\tScore: 32.18\tAverage Score: 26.83.18\n",
      "Episode 90\tScore: 31.51\tAverage Score: 26.89.05\n",
      "Episode 91\tScore: 31.24\tAverage Score: 26.93.63\n",
      "Episode 92\tScore: 30.38\tAverage Score: 26.97.71\n",
      "Episode 93\tScore: 31.37\tAverage Score: 27.02.40\n",
      "Episode 94\tScore: 31.12\tAverage Score: 27.06.61\n",
      "Episode 95\tScore: 31.46\tAverage Score: 27.11.82\n",
      "Episode 96\tScore: 31.99\tAverage Score: 27.16.55\n",
      "Episode 97\tScore: 31.26\tAverage Score: 27.20.05\n",
      "Episode 98\tScore: 30.54\tAverage Score: 27.24.12\n",
      "Episode 99\tScore: 30.78\tAverage Score: 27.27.54\n",
      "Episode 100\tScore: 31.13\tAverage Score: 27.3178\n",
      "Episode 100\tAverage Score: 27.31\n",
      "Episode 101\tScore: 31.01\tAverage Score: 27.6129\n",
      "Episode 102\tScore: 32.49\tAverage Score: 27.9218\n",
      "Episode 103\tScore: 31.19\tAverage Score: 28.2148\n",
      "Episode 104\tScore: 30.17\tAverage Score: 28.4896\n",
      "Episode 105\tScore: 30.68\tAverage Score: 28.7692\n",
      "Episode 106\tScore: 30.21\tAverage Score: 29.0275\n",
      "Episode 107\tScore: 30.19\tAverage Score: 29.2794\n",
      "Episode 108\tScore: 30.23\tAverage Score: 29.5246\n",
      "Episode 109\tScore: 28.73\tAverage Score: 29.7429\n",
      "Episode 110\tScore: 30.78\tAverage Score: 29.9838\n",
      "Episode 111\tScore: 29.44\tAverage Score: 30.1854\n",
      "\n",
      "Environment solved in 111 episodes!\tAverage Score: 30.18\n"
     ]
    }
   ],
   "source": [
    "def ddpg(n_episodes=300, max_t=1000,target_score=30):\n",
    "    \"\"\" Deep Deterministic Policy Gradients\n",
    "    Params\n",
    "    ======\n",
    "        n_episodes (int): maximum number of training episodes\n",
    "        max_t (int): maximum number of timesteps per episode\n",
    "    \"\"\"\n",
    "    scores_window = deque(maxlen=100)\n",
    "    scores = np.zeros(num_agents)\n",
    "    scores_episode = []\n",
    "    \n",
    "    agents =[] \n",
    "    \n",
    "    for i in range(num_agents):\n",
    "        agents.append(Agent(state_size, action_size, random_seed=0))\n",
    "    \n",
    "    for i_episode in range(1, n_episodes+1):\n",
    "        env_info = env.reset(train_mode=True)[brain_name]\n",
    "        states = env_info.vector_observations\n",
    "        \n",
    "        for agent in agents:\n",
    "            agent.reset()\n",
    "            \n",
    "        scores = np.zeros(num_agents)\n",
    "            \n",
    "        for t in range(max_t):\n",
    "            actions = np.array([agents[i].act(states[i]) for i in range(num_agents)])\n",
    "            env_info = env.step(actions)[brain_name]        # send the action to the environment\n",
    "            next_states = env_info.vector_observations     # get the next state\n",
    "            rewards = env_info.rewards                     # get the reward\n",
    "            dones = env_info.local_done        \n",
    "            \n",
    "            for i in range(num_agents):\n",
    "                agents[i].step(t,states[i], actions[i], rewards[i], next_states[i], dones[i]) \n",
    " \n",
    "            states = next_states\n",
    "            scores += rewards\n",
    "            if t % 20:\n",
    "                print('\\rTimestep {}\\tScore: {:.2f}\\tmin: {:.2f}\\tmax: {:.2f}'\n",
    "                      .format(t, np.mean(scores), np.min(scores), np.max(scores)), end=\"\") \n",
    "            if np.any(dones):\n",
    "                break \n",
    "        score = np.mean(scores)\n",
    "        scores_window.append(score)       # save most recent score\n",
    "        scores_episode.append(score)\n",
    "\n",
    "        print('\\rEpisode {}\\tScore: {:.2f}\\tAverage Score: {:.2f}'.format(i_episode, score, np.mean(scores_window)), end=\"\\n\")\n",
    "        if i_episode % 100 == 0:\n",
    "            print('\\rEpisode {}\\tAverage Score: {:.2f}'.format(i_episode, np.mean(scores_window)))\n",
    "        if np.mean(scores_window)>=target_score:\n",
    "            print('\\nEnvironment solved in {:d} episodes!\\tAverage Score: {:.2f}'.format(i_episode, np.mean(scores_window)))\n",
    "            torch.save(Agent.actor_local.state_dict(), 'models/arm_actor.pth')\n",
    "            torch.save(Agent.critic_local.state_dict(), 'models/arm_critic.pth')\n",
    "            break\n",
    "            \n",
    "    return scores_episode\n",
    "\n",
    "scores = ddpg()\n"
   ]
  },
  {
   "cell_type": "markdown",
   "metadata": {},
   "source": [
    "## 5.plot the score"
   ]
  },
  {
   "cell_type": "code",
   "execution_count": 7,
   "metadata": {},
   "outputs": [
    {
     "data": {
      "image/png": "[encoded data removed]",
      "text/plain": [
       "<Figure size 432x288 with 1 Axes>"
      ]
     },
     "metadata": {
      "needs_background": "light"
     },
     "output_type": "display_data"
    }
   ],
   "source": [
    "fig = plt.figure()\n",
    "ax = fig.add_subplot(111)\n",
    "plt.title(\"DDPG Robotic Arm Score\")\n",
    "plt.plot(np.arange(len(scores)), scores)\n",
    "plt.ylabel('Score')\n",
    "plt.xlabel('Episode #')\n",
    "plt.show()"
   ]
  },
  {
   "cell_type": "code",
   "execution_count": 8,
   "metadata": {},
   "outputs": [],
   "source": [
    "env.close()"
   ]
  },
  {
   "cell_type": "code",
   "execution_count": null,
   "metadata": {},
   "outputs": [],
   "source": []
  }
 ],
 "metadata": {
  "kernelspec": {
   "display_name": "Python 3",
   "language": "python",
   "name": "python3"
  },
  "language_info": {
   "codemirror_mode": {
    "name": "ipython",
    "version": 3
   },
   "file_extension": ".py",
   "mimetype": "text/x-python",
   "name": "python",
   "nbconvert_exporter": "python",
   "pygments_lexer": "ipython3",
   "version": "3.6.5"
  }
 },
 "nbformat": 4,
 "nbformat_minor": 2
}
